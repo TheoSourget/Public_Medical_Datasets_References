{
 "cells": [
  {
   "cell_type": "code",
   "execution_count": 131,
   "metadata": {},
   "outputs": [],
   "source": [
    "import pandas as pd\n",
    "import numpy as np\n",
    "from dirty_cat import fuzzy_join\n",
    "import math\n",
    "import glob\n",
    "import shutil"
   ]
  },
  {
   "cell_type": "code",
   "execution_count": 52,
   "metadata": {},
   "outputs": [
    {
     "name": "stderr",
     "output_type": "stream",
     "text": [
      "/home/theo/miniconda3/envs/PublicDataset/lib/python3.12/site-packages/dirty_cat/_fuzzy_join.py:320: UserWarning: This feature is still experimental.\n",
      "  warnings.warn(\"This feature is still experimental.\")\n"
     ]
    }
   ],
   "source": [
    "papers_info = pd.read_csv(\"../../Results/extraction/papers_infos_openalex.csv\")\n",
    "df_oa_reference_allInfo = pd.read_csv(\"../../Results/extraction/oa_papers_datasets_reference.csv\").drop_duplicates([\"name\"])\n",
    "df_oa_reference_allInfo[\"year\"] = papers_info[\"year\"]\n",
    "df_oa_reference_allInfo[\"venue\"] = papers_info[\"venue\"]\n",
    "df_oa_reference_allInfo = df_oa_reference_allInfo[((df_oa_reference_allInfo[\"year\"]>=2013) & (df_oa_reference_allInfo[\"year\"]<=2023))| (df_oa_reference_allInfo[\"year\"].isna())]\n",
    "\n",
    "df_oa_abstract_allInfo = pd.read_csv(\"../../Results/extraction/oa_papers_datasets_abstract.csv\").drop_duplicates([\"name\"])\n",
    "df_oa_abstract_allInfo[\"year\"] = papers_info[\"year\"]\n",
    "df_oa_abstract_allInfo[\"venue\"] = papers_info[\"venue\"]\n",
    "df_oa_abstract_allInfo = df_oa_abstract_allInfo[((df_oa_abstract_allInfo[\"year\"]>=2013) & (df_oa_abstract_allInfo[\"year\"]<=2023)) | (df_oa_abstract_allInfo[\"year\"].isna())]\n",
    "\n",
    "fulltext_abstract_info = pd.read_csv(\"../../Results/extraction/fulltext_datasets_abstract.csv\").drop_duplicates([\"name\"])\n",
    "fulltext_references_info = pd.read_csv(\"../../Results/extraction/fulltext_datasets_references.csv\").drop_duplicates([\"name\"])\n",
    "fulltext_method_info = pd.read_csv(\"../../Results/extraction/fulltext_datasets_method.csv\").drop_duplicates([\"name\"])\n",
    "#fulltext_results_info = pd.read_csv(\"../../Results/extraction/fulltext_datasets_results.csv\").drop_duplicates([\"name\"])\n",
    "\n",
    "common_papers = fuzzy_join(\n",
    "    fulltext_abstract_info,  # our table to join\n",
    "    df_oa_abstract_allInfo,  # the table to join with\n",
    "    left_on=\"name\",  # the first join key column\n",
    "    right_on=\"name\",  # the second join key column\n",
    "    return_score=True,\n",
    ")\n",
    "\n",
    "#Names for fulltext df\n",
    "common_papers_x = common_papers[\"name_x\"]\n",
    "\n",
    "#Name for OA df\n",
    "common_papers_y = common_papers[\"name_y\"]\n",
    "\n",
    "fulltext_abstract_info[\"venue\"] = common_papers[\"venue\"]\n",
    "fulltext_references_info[\"venue\"] = common_papers[\"venue\"]\n",
    "fulltext_method_info[\"venue\"] = common_papers[\"venue\"]\n",
    "#fulltext_results_info[\"venue\"] = common_papers[\"venue\"]"
   ]
  },
  {
   "cell_type": "code",
   "execution_count": 53,
   "metadata": {},
   "outputs": [],
   "source": [
    "datasets_columns = [\"ACDC\",\"BRATS\",\"LIDC-IDRI\",\"DRIVE\",\"PROMISE12\",\"Chexpert\",\"PadChest\",\"PAD-UFES-20\",\"CAMELYON\",\"CADDementia\",\"MRNet\",\"PROSTATEx\",\"MIMIC\",\"CBIS-DDSM\"]\n",
    "venues = [\"MICCAI\",\"MIDL\"]"
   ]
  },
  {
   "cell_type": "code",
   "execution_count": 70,
   "metadata": {},
   "outputs": [],
   "source": [
    "fulltext_references_info[\"name\"] = fulltext_references_info[\"name\"].apply(lambda x:x.removesuffix(\"pdf\"))\n",
    "combination = df_oa_reference_allInfo[df_oa_reference_allInfo[\"name\"].isin(common_papers_y)][datasets_columns].reset_index(drop=True)|fulltext_references_info[fulltext_references_info[\"name\"].isin(common_papers_x)][datasets_columns].reset_index(drop=True)\n",
    "combination.index = common_papers[\"name_x\"]\n",
    "df_merge_ref = df_oa_reference_allInfo.set_index([\"name\"])\n",
    "df_merge_ref.update(combination)"
   ]
  },
  {
   "cell_type": "code",
   "execution_count": 101,
   "metadata": {},
   "outputs": [],
   "source": [
    "fulltext_abstract_info[\"name\"] = fulltext_abstract_info[\"name\"].apply(lambda x:x.removesuffix(\"pdf\"))\n",
    "combination = df_oa_abstract_allInfo[df_oa_abstract_allInfo[\"name\"].isin(common_papers_y)][datasets_columns].reset_index(drop=True)|fulltext_abstract_info[fulltext_abstract_info[\"name\"].isin(common_papers_x)][datasets_columns].reset_index(drop=True)\n",
    "combination.index = common_papers[\"name_x\"]\n",
    "df_merge_abs = df_oa_abstract_allInfo.set_index([\"name\"])\n",
    "df_merge_abs.update(combination)"
   ]
  },
  {
   "cell_type": "code",
   "execution_count": 118,
   "metadata": {},
   "outputs": [],
   "source": [
    "have_ft  = df_merge_ref[df_merge_ref.index.isin(common_papers_y)][datasets_columns] | df_merge_abs[df_merge_abs.index.isin(common_papers_y)][datasets_columns]\n",
    "# have_ft = df_merge_ref[df_merge_ref.index.isin(common_papers_y)] | df_merge_abs[df_merge_abs.index.isin(common_papers_y)]\n",
    "have_ft[\"year\"] = df_merge_ref[df_merge_ref.index.isin(common_papers_y)][\"year\"]\n",
    "have_ft[\"venue\"] = df_merge_ref[df_merge_ref.index.isin(common_papers_y)][\"venue\"]\n",
    "detected_papers_name = have_ft[have_ft[datasets_columns].any(axis=1)]"
   ]
  },
  {
   "cell_type": "code",
   "execution_count": 119,
   "metadata": {},
   "outputs": [],
   "source": [
    "have_a_detection = have_ft[(have_ft.index.isin(detected_papers_name.index)) & have_ft[\"venue\"].isin(venues)]\n",
    "no_detection = have_ft[(~have_ft.index.isin(detected_papers_name.index)) & have_ft[\"venue\"].isin(venues)]"
   ]
  },
  {
   "cell_type": "code",
   "execution_count": 122,
   "metadata": {},
   "outputs": [
    {
     "data": {
      "text/plain": [
       "venue\n",
       "MICCAI    215\n",
       "MIDL       20\n",
       "Name: ACDC, dtype: int64"
      ]
     },
     "execution_count": 122,
     "metadata": {},
     "output_type": "execute_result"
    }
   ],
   "source": [
    "have_a_detection.groupby(\"venue\").count()[\"ACDC\"]"
   ]
  },
  {
   "cell_type": "code",
   "execution_count": 123,
   "metadata": {},
   "outputs": [
    {
     "data": {
      "text/plain": [
       "venue\n",
       "MICCAI    2096\n",
       "MIDL       190\n",
       "Name: ACDC, dtype: int64"
      ]
     },
     "execution_count": 123,
     "metadata": {},
     "output_type": "execute_result"
    }
   ],
   "source": [
    "no_detection.groupby(\"venue\").count()[\"ACDC\"]"
   ]
  },
  {
   "cell_type": "code",
   "execution_count": null,
   "metadata": {},
   "outputs": [
    {
     "name": "stdout",
     "output_type": "stream",
     "text": [
      "Number of screened papers with detection for MICCAI: 84\n",
      "Number of screened papers without detection for MICCAI: 67\n",
      "Number of screened papers with detection for MIDL: 50\n",
      "Number of screened papers without detection for MIDL: 81\n"
     ]
    }
   ],
   "source": [
    "nb_papers = 65\n",
    "for venue in venues:\n",
    "    detect_venue = have_a_detection[have_a_detection[\"venue\"] == venue]\n",
    "    index_jump = math.floor(len(detect_venue)/nb_papers)\n",
    "    index_jump = max(1,index_jump) # In case there is not enough paper\n",
    "    names = detect_venue.iloc[::index_jump, :][\"name\"]\n",
    "    names.to_csv(f\"../../Results/analysis/detect_{venue}.csv\",index=False)\n",
    "    print(f\"Number of screened papers with detection for {venue}: {len(names)}\") \n",
    "    \n",
    "    no_detect_venue = no_detection[no_detection[\"venue\"] == venue]\n",
    "    index_jump = math.floor(len(no_detect_venue)/nb_papers)\n",
    "    index_jump = max(1,index_jump)\n",
    "    names = no_detect_venue.iloc[::index_jump, :][\"name\"]\n",
    "    names.to_csv(f\"../../Results/analysis/no_detect_{venue}.csv\",index=False)\n",
    "    print(f\"Number of screened papers without detection for {venue}: {len(names)}\")"
   ]
  },
  {
   "cell_type": "code",
   "execution_count": 42,
   "metadata": {},
   "outputs": [],
   "source": [
    "#Merge csv\n",
    "lst_df = []\n",
    "for path in glob.glob(\"../../Results/analysis/*.csv\"):\n",
    "    df = pd.read_csv(path)\n",
    "    lst_df.append(df.copy())\n",
    "df_concat = pd.concat(lst_df)"
   ]
  },
  {
   "cell_type": "code",
   "execution_count": 141,
   "metadata": {},
   "outputs": [
    {
     "data": {
      "text/plain": [
       "venue\n",
       "MICCAI    21\n",
       "MIDL       2\n",
       "Name: ACDC, dtype: int64"
      ]
     },
     "execution_count": 141,
     "metadata": {},
     "output_type": "execute_result"
    }
   ],
   "source": [
    "#Create folds for papers that have a detection\n",
    "from sklearn.model_selection import StratifiedKFold\n",
    "skf = StratifiedKFold(n_splits=10)\n",
    "folds = skf.split(have_a_detection, have_a_detection.venue)\n",
    "with open(\"../../Results/folds/detect_folds.csv\",\"w\") as detect_folds_file:\n",
    "    detect_folds_file.write(\"fold_id,pdf_name\")\n",
    "    for i,(_,fold_indexes) in enumerate(folds):\n",
    "        for pdf in have_a_detection.iloc[fold_indexes].iterrows():\n",
    "            filename = pdf[0].replace(\"/\",\" \")\n",
    "            try:\n",
    "                shutil.copy(f\"../../Results/extraction/fulltext/{filename}.pdf\",f\"../../Results/folds/detect/{filename}.pdf\")\n",
    "                detect_folds_file.write(f'\\n{i},\"{filename}\"')\n",
    "            except:\n",
    "                print(\"ERROR\",{filename})\n",
    "\n",
    "have_a_detection.iloc[fold_indexes].groupby(\"venue\").count()[\"ACDC\"]"
   ]
  },
  {
   "cell_type": "code",
   "execution_count": 142,
   "metadata": {},
   "outputs": [
    {
     "name": "stdout",
     "output_type": "stream",
     "text": [
      "ERROR {'Learning the Latent Heat Diffusion Process through Structural Brain Network from Longitudinal β-Amyloid Data'}\n",
      "ERROR {'Residual learning for 3D motion corrected quantitative MRI: Robust clinical T1 T2 and proton density mapping'}\n"
     ]
    },
    {
     "data": {
      "text/plain": [
       "venue\n",
       "MICCAI    69\n",
       "MIDL       7\n",
       "Name: ACDC, dtype: int64"
      ]
     },
     "execution_count": 142,
     "metadata": {},
     "output_type": "execute_result"
    }
   ],
   "source": [
    "skf = StratifiedKFold(n_splits=30,shuffle=True,random_state=1907)\n",
    "folds = skf.split(no_detection, no_detection.venue)\n",
    "with open(\"../../Results/folds/no_detect_folds.csv\",\"w\") as no_detect_folds_file:\n",
    "    no_detect_folds_file.write(\"fold_id,pdf_name\")\n",
    "    for i,(_,fold_indexes) in enumerate(folds):\n",
    "        for pdf in no_detection.iloc[fold_indexes].iterrows():\n",
    "            filename = pdf[0].replace(\"/\",\" \")\n",
    "            try:\n",
    "                shutil.copy(f\"../../Results/extraction/fulltext/{filename}.pdf\",f\"../../Results/folds/no_detect/{filename}.pdf\")\n",
    "                no_detect_folds_file.write(f'\\n{i},\"{filename}\"')\n",
    "            except:\n",
    "                print(\"ERROR\",{filename})\n",
    "no_detection.iloc[fold_indexes].groupby(\"venue\").count()[\"ACDC\"]"
   ]
  }
 ],
 "metadata": {
  "kernelspec": {
   "display_name": "PublicDataset",
   "language": "python",
   "name": "python3"
  },
  "language_info": {
   "codemirror_mode": {
    "name": "ipython",
    "version": 3
   },
   "file_extension": ".py",
   "mimetype": "text/x-python",
   "name": "python",
   "nbconvert_exporter": "python",
   "pygments_lexer": "ipython3",
   "version": "3.12.0"
  }
 },
 "nbformat": 4,
 "nbformat_minor": 2
}
