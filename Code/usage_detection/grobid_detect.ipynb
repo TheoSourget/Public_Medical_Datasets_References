{
 "cells": [
  {
   "cell_type": "markdown",
   "metadata": {},
   "source": [
    "## Import section"
   ]
  },
  {
   "cell_type": "code",
   "execution_count": 30,
   "metadata": {},
   "outputs": [],
   "source": [
    "import glob\n",
    "import bs4 as bs\n",
    "import csv\n",
    "import re\n",
    "import pandas as pd\n",
    "import numpy as np\n",
    "import matplotlib.pyplot as plt"
   ]
  },
  {
   "cell_type": "markdown",
   "metadata": {},
   "source": [
    "## Grobid extraction information"
   ]
  },
  {
   "cell_type": "code",
   "execution_count": 31,
   "metadata": {},
   "outputs": [
    {
     "name": "stdout",
     "output_type": "stream",
     "text": [
      "Number of pdf with complete extraction: 2678\n",
      "Number of pdf with error extraction: 0\n",
      "Total number of paper: 2678\n"
     ]
    }
   ],
   "source": [
    "print(\"Number of pdf with complete extraction:\",len(glob.glob(\"../../Results/extraction/grobid_extraction/*.xml\")))\n",
    "print(\"Number of pdf with error extraction:\",len(glob.glob(\"../../Results/extraction/grobid_extraction/*.txt\")))\n",
    "print(\"Total number of paper:\",len(glob.glob(\"../../Results/extraction/fulltext/*.pdf\")))"
   ]
  },
  {
   "cell_type": "markdown",
   "metadata": {},
   "source": [
    "## Load dataset information"
   ]
  },
  {
   "cell_type": "code",
   "execution_count": 32,
   "metadata": {},
   "outputs": [
    {
     "data": {
      "text/plain": [
       "{'ACDC': {'doi': '10.1109/TMI.2018.2837502',\n",
       "  'title': 'Deep Learning Techniques for Automatic MRI Cardiac Multi-Structures Segmentation and Diagnosis: Is the Problem Solved?',\n",
       "  'name': 'ACDC',\n",
       "  'aliases': ['ACDC', 'Automated Cardiac Diagnosis Challenge', 'AC17'],\n",
       "  'url': ['https://www.creatis.insa-lyon.fr/Challenge/acdc',\n",
       "   'https://www.creatis.insa-lyon.fr/Challenge/acdc/databases.html']},\n",
       " 'Sunnybrook': {'doi': 'https://doi.org/10.54294/g80ruo',\n",
       "  'title': 'Evaluation Framework for Algorithms Segmenting Short Axis Cardiac MRI',\n",
       "  'name': 'Sunnybrook',\n",
       "  'aliases': ['Sunnybrook'],\n",
       "  'url': ['https://www.cardiacatlas.org/sunnybrook-cardiac-data']},\n",
       " 'STACOM’11': {'doi': '10.1007/978-3-642-28326-0_9',\n",
       "  'title': 'Left Ventricular Segmentation Challenge from Cardiac MRI: A Collation Study',\n",
       "  'name': 'STACOM’11',\n",
       "  'aliases': ['STACOM’11', \"STACOM'11\"],\n",
       "  'url': ['https://www.satdl.com/download/37618']},\n",
       " 'RVSC': {'doi': 'https://doi.org/10.1016/j.media.2014.10.004',\n",
       "  'title': 'Right ventricle segmentation from cardiac MRI: A collation study',\n",
       "  'name': 'RVSC',\n",
       "  'aliases': ['RVSC'],\n",
       "  'url': ['https://rvsc.projets.litislab.fr']},\n",
       " 'M&Ms': {'doi': '10.1109/tmi.2021.3090082',\n",
       "  'title': 'Multi-Centre, Multi-Vendor and Multi-Disease Cardiac Segmentation: The M&Ms Challenge',\n",
       "  'name': 'M&Ms',\n",
       "  'aliases': ['M&Ms'],\n",
       "  'url': ['https://www.ub.edu/mnms']},\n",
       " 'BRATS': {'doi': '10.1109/tmi.2014.2377694',\n",
       "  'title': 'The Multimodal Brain Tumor Image Segmentation Benchmark (BRATS)',\n",
       "  'name': 'BRATS',\n",
       "  'aliases': ['BRATS', 'BraTs', 'BraTS', 'Brats'],\n",
       "  'url': ['http://braintumorsegmentation.org']},\n",
       " 'PROMISE12': {'doi': '10.1016/j.media.2013.12.002',\n",
       "  'title': 'Evaluation of prostate segmentation algorithms for MRI: The PROMISE12 challenge',\n",
       "  'name': 'PROMISE12',\n",
       "  'aliases': ['PROMISE12', 'MICCAI2012 prostate MRI'],\n",
       "  'url': ['https://promise12.grand-challenge.org']},\n",
       " 'LIDC-IDRI': {'doi': '10.1118/1.3528204,10.1016/j.media.2017.06.015',\n",
       "  'title': 'The Lung Image Database Consortium (LIDC) and Image Database Resource Initiative (IDRI): A Completed Reference Database of Lung Nodules on CT Scans',\n",
       "  'name': 'LIDC-IDRI',\n",
       "  'aliases': ['LIDC-IDRI', 'LUNA16', 'LIDC'],\n",
       "  'url': ['https://wiki.cancerimagingarchive.net/pages/viewpage.action?pageId=1966254']},\n",
       " 'DRIVE': {'doi': '10.1109/TMI.2004.825627',\n",
       "  'title': 'Ridge-based vessel segmentation in color images of the retina',\n",
       "  'name': 'DRIVE',\n",
       "  'aliases': ['DRIVE'],\n",
       "  'url': ['https://drive.grand-challenge.org']},\n",
       " 'CBIS-DDSM': {'doi': '10.1038/sdata.2017.177',\n",
       "  'title': 'A curated mammography data set for use in computer-aided detection and diagnosis research',\n",
       "  'name': 'CBIS-DDSM',\n",
       "  'aliases': ['CBIS-DDSM', 'DDSM', 'CBIS'],\n",
       "  'url': ['https://wiki.cancerimagingarchive.net/pages/viewpage.action?pageId=22516629']},\n",
       " 'Chexpert': {'doi': 'https://doi.org/10.1609/aaai.v33i01.3301590',\n",
       "  'title': 'CheXpert: A Large Chest Radiograph Dataset with Uncertainty Labels and Expert Comparison',\n",
       "  'name': 'Chexpert',\n",
       "  'aliases': ['Chexpert', 'CheXpert'],\n",
       "  'url': ['https://stanfordmlgroup.github.io/competitions/chexpert']},\n",
       " 'ChestX-Ray14': {'doi': 'https://doi.org/10.1109/cvpr.2017.369',\n",
       "  'title': 'ChestX-ray8: Hospital-scale Chest X-ray Database and Benchmarks on Weakly-Supervised Classification and Localization of Common Thorax Diseases',\n",
       "  'name': 'ChestX-Ray14',\n",
       "  'aliases': ['ChestX-Ray14',\n",
       "   'Chest X-Ray14',\n",
       "   'Chest Xray14',\n",
       "   'ChestX-Ray8',\n",
       "   'Chest X-Ray8',\n",
       "   'Chest Xray8',\n",
       "   'NIH Chest X-ray',\n",
       "   'NIH-CXR14',\n",
       "   'NIH-CXR8',\n",
       "   'NIH CXR14',\n",
       "   'NIH CXR8',\n",
       "   'Chest-Xray14',\n",
       "   'Chest-Xray8',\n",
       "   'chestX-ray14'],\n",
       "  'url': ['https://nihcc.app.box.com/v/ChestXray-NIHCC']},\n",
       " 'PadChest': {'doi': 'https://doi.org/10.1016/j.media.2020.101797',\n",
       "  'title': 'PadChest: A large chest x-ray image dataset with multi-label annotated reports',\n",
       "  'name': 'PadChest',\n",
       "  'aliases': ['PadChest', 'PDC'],\n",
       "  'url': ['https://bimcv.cipf.es/bimcv-projects/padchest']},\n",
       " 'MIMIC': {'doi': 'https://doi.org/10.1038/sdata.2016.35,10.1097/CCM.0b013e31820a92c6,10.1109/CIC.1996.542622,10.1038/s41597-019-0322-0',\n",
       "  'title': 'MIMIC-III, a freely accessible critical care database',\n",
       "  'name': 'MIMIC',\n",
       "  'aliases': ['MIMIC', 'MIMIC-II', 'MIMIC-III', 'MIMIC-CXR'],\n",
       "  'url': ['https://archive.physionet.org/physiobank/database/mimicdb',\n",
       "   'https://archive.physionet.org/physiobank/database/mimic2cdb',\n",
       "   'https://physionet.org/content/mimiciii/1.4',\n",
       "   'https://physionet.org/content/mimic-cxr/2.0.0',\n",
       "   'https://www.physionet.org/content/mimic-cxr-jpg/2.0.0']},\n",
       " 'VinDr-CXR': {'doi': 'https://doi.org/10.48550/arxiv.2012.15029',\n",
       "  'title': \"VinDr-CXR: An open dataset of chest X-rays with radiologist's annotations\",\n",
       "  'name': 'VinDr-CXR',\n",
       "  'aliases': ['VinDr-CXR'],\n",
       "  'url': ['https://vindr.ai/datasets/cxr']},\n",
       " 'PAD-UFES-20': {'doi': 'https://doi.org/10.1016/j.dib.2020.106221',\n",
       "  'title': 'PAD-UFES-20: A skin lesion dataset composed of patient data and clinical images collected from smartphones',\n",
       "  'name': 'PAD-UFES-20',\n",
       "  'aliases': ['PAD-UFES-20'],\n",
       "  'url': ['https://data.mendeley.com/datasets/zr7vgbcyr2/1']},\n",
       " 'CAMELYON': {'doi': 'https://doi.org/10.1093/gigascience/giy065',\n",
       "  'title': '1399 H&E-stained sentinel lymph node sections of breast cancer patients: the CAMELYON dataset',\n",
       "  'name': 'CAMELYON',\n",
       "  'aliases': ['CAMELYON', 'Camelyon'],\n",
       "  'url': ['https://camelyon17.grand-challenge.org',\n",
       "   'https://registry.opendata.aws/camelyon']},\n",
       " 'CADDementia': {'doi': 'https://doi.org/10.1016/j.neuroimage.2015.01.048',\n",
       "  'title': 'Standardized evaluation of algorithms for computer-aided diagnosis of dementia based on structural MRI: the CADDementia challenge',\n",
       "  'name': 'CADDementia',\n",
       "  'aliases': ['CADDementia'],\n",
       "  'url': ['https://caddementia.grand-challenge.org']},\n",
       " 'MRNet': {'doi': 'https://doi.org/10.1371/journal.pmed.1002699',\n",
       "  'title': 'Deep-learning-assisted diagnosis for knee magnetic resonance imaging: Development and retrospective validation of MRNet',\n",
       "  'name': 'MRNet',\n",
       "  'aliases': ['MRNet'],\n",
       "  'url': ['https://stanfordmlgroup.github.io/competitions/mrnet']},\n",
       " 'PROSTATEx': {'doi': 'https://doi.org/10.1117/1.jmi.5.4.044501',\n",
       "  'title': 'PROSTATEx Challenges for computerized classification of prostate lesions from multiparametric magnetic resonance images',\n",
       "  'name': 'PROSTATEx',\n",
       "  'aliases': ['PROSTATEx', 'ProstateX'],\n",
       "  'url': ['https://prostatex.grand-challenge.org',\n",
       "   'https://wiki.cancerimagingarchive.net/pages/viewpage.action?pageId=23691656']}}"
      ]
     },
     "execution_count": 32,
     "metadata": {},
     "output_type": "execute_result"
    }
   ],
   "source": [
    "datasets_info = {}\n",
    "with open('../../Resources/data/datasets.csv') as ds_csv:\n",
    "    ds_reader = csv.DictReader(ds_csv)\n",
    "    for ds in ds_reader:\n",
    "        datasets_info[ds[\"name\"]] = {\n",
    "                                        \"doi\":ds[\"doi\"],\n",
    "                                        \"title\":ds[\"paper_title\"],\n",
    "                                        \"name\":ds[\"name\"],\n",
    "                                        \"aliases\":ds[\"aliases\"].split(\",\"),\n",
    "                                        \"url\":ds[\"url\"].split(\",\")\n",
    "                                     }\n",
    "datasets_info"
   ]
  },
  {
   "cell_type": "markdown",
   "metadata": {},
   "source": [
    "## Specify datasets selected and sections considered as Method"
   ]
  },
  {
   "cell_type": "code",
   "execution_count": 33,
   "metadata": {},
   "outputs": [],
   "source": [
    "datasets_columns = [\"ACDC\",\"BRATS\",\"LIDC-IDRI\",\"DRIVE\",\"PROMISE12\",\"Chexpert\",\"PadChest\",\"PAD-UFES-20\",\"CAMELYON\",\"CADDementia\",\"MRNet\",\"PROSTATEx\",\"MIMIC\",\"CBIS-DDSM\"]\n",
    "lst_keywords = [\"data\",\"method\",\"result\",\"setup\",\"material\",\"experiment\",\"evaluat\"]"
   ]
  },
  {
   "cell_type": "code",
   "execution_count": 5,
   "metadata": {},
   "outputs": [],
   "source": [
    "#Get the results of grobid parsing\n",
    "xml_paths = glob.glob(\"../../Results/extraction/grobid_extraction/*\")\n",
    "\n",
    "#res will contain an element (dict) per paper, in each element keys will be datasets' name and value a list of mention location\n",
    "res = []\n",
    "for i,path in enumerate(xml_paths):\n",
    "    paper_name = path.removeprefix(\"../../Results/extraction/grobid_extraction/\").removesuffix(\".grobid.tei.xml\").removesuffix(\".txt\")\n",
    "    \n",
    "    #Check that the result is an xml, otherwise grobid had an error during the parsing and generate a .txt file\n",
    "    if path.endswith(\".xml\"):\n",
    "        #Load the xml file with BeautifulSoup for parsing\n",
    "        with open(path) as fp:\n",
    "            soup = bs.BeautifulSoup(fp,features=\"xml\")\n",
    "\n",
    "\n",
    "        #Get main section name, it will be used to assign subsection to the main one (e.g section 3.2 match with section 3.)\n",
    "        sections = {}\n",
    "        for elem in soup.findAll(\"head\"):\n",
    "            if elem.get(\"n\") and elem.get(\"n\")[0] not in sections:\n",
    "                sections[elem.get(\"n\")[0]] = elem.text.lower()\n",
    "          \n",
    "        #Search for the mention of every dataset one by one\n",
    "        for ds in datasets_info:\n",
    "            #Construct the regex for matching name or aliases, example for ACDC: (?<![^_\\W])(ACDC)|(Automated Cardiac Diagnosis Challenge)|(AC17)(?![^_\\s\\d\\.\\),'])\n",
    "            ds_urls = [f\"((https://)?{re.escape(url.removeprefix('https://').removeprefix(\"http://\"))}(/)?)\" for url in datasets_info[ds]['url']]\n",
    "            ds_name_aliases = [f\"({re.escape(a)})\" for a in datasets_info[ds][\"aliases\"]]\n",
    "            \n",
    "            ds_name_aliases_url_regex = \"|\".join(ds_name_aliases+ds_urls)\n",
    "            \n",
    "            #For every element in the xml with a matching, try to associate it with a location or a structure (Figure, Table, Footnote)\n",
    "            for elem in soup.findAll(string=re.compile(f\"(?<![^_\\\\W])({ds_name_aliases_url_regex})(?![^_\\\\s\\\\d\\\\.\\\\),'-])\")):\n",
    "                #To detect in \"normal\" text for which the parent elements is a <div>\n",
    "                parent_div = elem.find_parent(\"div\")\n",
    "                if parent_div:\n",
    "                    #If the element was part of the abstract or an appendix, the div will have a parent abstract or annex.\n",
    "                    #Otherwise it's part of a fulltext's section\n",
    "                    if parent_div.find_parent(\"abstract\"):\n",
    "                        res.append([paper_name,ds,\"In Abstract\",True])\n",
    "                    elif (parent_div.find_parent(\"div\")) and (parent_div.find_parent(\"div\").get(\"type\") == \"annex\"):\n",
    "                        res.append([paper_name,ds,\"Elsewhere\",True])\n",
    "                    elif parent_div.find(\"head\"):\n",
    "                        #Get the section number\n",
    "                        head_level = parent_div.find(\"head\").get(\"n\")\n",
    "                        \n",
    "                        #Interpolate the section in case there is no \"n\" attribute by looking at the closest previous div with this attribute\n",
    "                        if not head_level:\n",
    "                            for div in parent_div.find_previous_siblings(\"div\"):\n",
    "                                if div.find(\"head\") and div.find(\"head\").get(\"n\"):\n",
    "                                    head_level = div.find(\"head\").get(\"n\")\n",
    "                                    break\n",
    "                        \n",
    "                        #Match with a main section if it was a subsection (3.2 -> 3) and get the section name\n",
    "                        if head_level:\n",
    "                            head_text = sections[head_level[0]]\n",
    "                        else:\n",
    "                            head_text = parent_div.find(\"head\").text.lower()\n",
    "                        \n",
    "                        \n",
    "                        if any([kw in head_text for kw in lst_keywords]):\n",
    "                            to_append = \"In Method\"\n",
    "                        else:\n",
    "                            to_append = \"Elsewhere\"\n",
    "                        res.append([paper_name,ds,to_append,True])\n",
    "                \n",
    "\n",
    "                #To detect in figures or tables, for which parent element is <figure>\n",
    "                parent_figure = elem.find_parent(\"figure\")\n",
    "                if parent_figure:\n",
    "                    if parent_figure.get(\"type\") == \"table\":\n",
    "                        res.append([paper_name,ds,\"In Table\",True])                        \n",
    "                    else:\n",
    "                        res.append([paper_name,ds,\"In Figure\",True])\n",
    "                        \n",
    "\n",
    "                #To detect footnotes for which parent element is <note>\n",
    "                parent_footnote = elem.find_parent(\"note\")\n",
    "                if parent_footnote:\n",
    "                    if parent_footnote.get(\"place\") == \"foot\":\n",
    "                        res.append([paper_name,ds,\"In Footnote\",True])"
   ]
  },
  {
   "cell_type": "code",
   "execution_count": 6,
   "metadata": {},
   "outputs": [],
   "source": [
    "df_res = pd.DataFrame(res,columns=[\"doc_name\",\"label1\",\"label2\",\"value\"])\n",
    "df_res = df_res.drop_duplicates([\"doc_name\",\"label1\",\"label2\"])\n",
    "df_res.to_csv(\"../../Results/extraction/grobid_fulltext_detection.csv\",index=False)"
   ]
  },
  {
   "cell_type": "code",
   "execution_count": 7,
   "metadata": {},
   "outputs": [
    {
     "data": {
      "text/html": [
       "<div>\n",
       "<style scoped>\n",
       "    .dataframe tbody tr th:only-of-type {\n",
       "        vertical-align: middle;\n",
       "    }\n",
       "\n",
       "    .dataframe tbody tr th {\n",
       "        vertical-align: top;\n",
       "    }\n",
       "\n",
       "    .dataframe thead th {\n",
       "        text-align: right;\n",
       "    }\n",
       "</style>\n",
       "<table border=\"1\" class=\"dataframe\">\n",
       "  <thead>\n",
       "    <tr style=\"text-align: right;\">\n",
       "      <th></th>\n",
       "      <th>doc_name</th>\n",
       "      <th>label1</th>\n",
       "      <th>label2</th>\n",
       "      <th>value</th>\n",
       "    </tr>\n",
       "  </thead>\n",
       "  <tbody>\n",
       "    <tr>\n",
       "      <th>73</th>\n",
       "      <td>A Robust Volumetric Transformer for Accurate 3...</td>\n",
       "      <td>BRATS</td>\n",
       "      <td>In Abstract</td>\n",
       "      <td>True</td>\n",
       "    </tr>\n",
       "    <tr>\n",
       "      <th>74</th>\n",
       "      <td>A Robust Volumetric Transformer for Accurate 3...</td>\n",
       "      <td>BRATS</td>\n",
       "      <td>Elsewhere</td>\n",
       "      <td>True</td>\n",
       "    </tr>\n",
       "    <tr>\n",
       "      <th>75</th>\n",
       "      <td>A Robust Volumetric Transformer for Accurate 3...</td>\n",
       "      <td>BRATS</td>\n",
       "      <td>In Table</td>\n",
       "      <td>True</td>\n",
       "    </tr>\n",
       "  </tbody>\n",
       "</table>\n",
       "</div>"
      ],
      "text/plain": [
       "                                             doc_name label1       label2  \\\n",
       "73  A Robust Volumetric Transformer for Accurate 3...  BRATS  In Abstract   \n",
       "74  A Robust Volumetric Transformer for Accurate 3...  BRATS    Elsewhere   \n",
       "75  A Robust Volumetric Transformer for Accurate 3...  BRATS     In Table   \n",
       "\n",
       "    value  \n",
       "73   True  \n",
       "74   True  \n",
       "75   True  "
      ]
     },
     "execution_count": 7,
     "metadata": {},
     "output_type": "execute_result"
    }
   ],
   "source": [
    "doc_name = r\"A Robust Volumetric Transformer for Accurate 3D Tumor Segmentation\"\n",
    "df_res[df_res[\"doc_name\"] == doc_name]"
   ]
  },
  {
   "cell_type": "markdown",
   "metadata": {},
   "source": [
    "## Example of regex used for detection"
   ]
  },
  {
   "cell_type": "code",
   "execution_count": 8,
   "metadata": {},
   "outputs": [
    {
     "data": {
      "text/plain": [
       "re.compile(r\"(?<![^_\\W])((MIMIC)|(MIMIC\\-II)|(MIMIC\\-III)|(MIMIC\\-CXR)|((https://)?archive\\.physionet\\.org/physiobank/database/mimicdb(/)?)|((https://)?archive\\.physionet\\.org/physiobank/database/mimic2cdb(/)?)|((https://)?physionet\\.org/content/mimiciii/1\\.4(/)?)|((https://)?physionet\\.org/content/mimic\\-cxr/2\\.0\\.0(/)?)|((https://)?www\\.physionet\\.org/content/mimic\\-cxr\\-jpg/2\\.0\\.0(/)?))(?![^_\\s\\d\\.\\),'])\",\n",
       "           re.UNICODE)"
      ]
     },
     "execution_count": 8,
     "metadata": {},
     "output_type": "execute_result"
    }
   ],
   "source": [
    "ds = \"MIMIC\"\n",
    "ds_urls = [f\"((https://)?{re.escape(url.removeprefix('https://').removeprefix(\"http://\"))}(/)?)\" for url in datasets_info[ds]['url']]\n",
    "ds_name_aliases = [f\"({re.escape(a)})\" for a in datasets_info[ds][\"aliases\"]]\n",
    "            \n",
    "\n",
    "ds_name_aliases_url_regex = \"|\".join(ds_name_aliases+ds_urls)\n",
    "regex = re.compile(f\"(?<![^_\\\\W])({ds_name_aliases_url_regex})(?![^_\\\\s\\\\d\\\\.\\\\),'])\")\n",
    "regex"
   ]
  },
  {
   "cell_type": "markdown",
   "metadata": {},
   "source": [
    "## Dataviz"
   ]
  },
  {
   "cell_type": "code",
   "execution_count": 9,
   "metadata": {},
   "outputs": [
    {
     "data": {
      "text/plain": [
       "<Figure size 640x480 with 0 Axes>"
      ]
     },
     "metadata": {},
     "output_type": "display_data"
    },
    {
     "data": {
      "image/png": "[encoded data removed]",
      "text/plain": [
       "<Figure size 640x480 with 1 Axes>"
      ]
     },
     "metadata": {},
     "output_type": "display_data"
    },
    {
     "data": {
      "text/html": [
       "<div>\n",
       "<style scoped>\n",
       "    .dataframe tbody tr th:only-of-type {\n",
       "        vertical-align: middle;\n",
       "    }\n",
       "\n",
       "    .dataframe tbody tr th {\n",
       "        vertical-align: top;\n",
       "    }\n",
       "\n",
       "    .dataframe thead th {\n",
       "        text-align: right;\n",
       "    }\n",
       "</style>\n",
       "<table border=\"1\" class=\"dataframe\">\n",
       "  <thead>\n",
       "    <tr style=\"text-align: right;\">\n",
       "      <th>label2</th>\n",
       "      <th>Elsewhere</th>\n",
       "      <th>In Abstract</th>\n",
       "      <th>In Figure</th>\n",
       "      <th>In Footnote</th>\n",
       "      <th>In Method</th>\n",
       "      <th>In Table</th>\n",
       "    </tr>\n",
       "    <tr>\n",
       "      <th>label1</th>\n",
       "      <th></th>\n",
       "      <th></th>\n",
       "      <th></th>\n",
       "      <th></th>\n",
       "      <th></th>\n",
       "      <th></th>\n",
       "    </tr>\n",
       "  </thead>\n",
       "  <tbody>\n",
       "    <tr>\n",
       "      <th>ACDC</th>\n",
       "      <td>28.0</td>\n",
       "      <td>15.0</td>\n",
       "      <td>27.0</td>\n",
       "      <td>6.0</td>\n",
       "      <td>45.0</td>\n",
       "      <td>32.0</td>\n",
       "    </tr>\n",
       "    <tr>\n",
       "      <th>BRATS</th>\n",
       "      <td>60.0</td>\n",
       "      <td>46.0</td>\n",
       "      <td>33.0</td>\n",
       "      <td>4.0</td>\n",
       "      <td>86.0</td>\n",
       "      <td>49.0</td>\n",
       "    </tr>\n",
       "    <tr>\n",
       "      <th>CAMELYON</th>\n",
       "      <td>15.0</td>\n",
       "      <td>5.0</td>\n",
       "      <td>7.0</td>\n",
       "      <td>3.0</td>\n",
       "      <td>21.0</td>\n",
       "      <td>11.0</td>\n",
       "    </tr>\n",
       "    <tr>\n",
       "      <th>CBIS-DDSM</th>\n",
       "      <td>5.0</td>\n",
       "      <td>4.0</td>\n",
       "      <td>1.0</td>\n",
       "      <td>0.0</td>\n",
       "      <td>7.0</td>\n",
       "      <td>4.0</td>\n",
       "    </tr>\n",
       "    <tr>\n",
       "      <th>Chexpert</th>\n",
       "      <td>33.0</td>\n",
       "      <td>10.0</td>\n",
       "      <td>12.0</td>\n",
       "      <td>1.0</td>\n",
       "      <td>45.0</td>\n",
       "      <td>22.0</td>\n",
       "    </tr>\n",
       "    <tr>\n",
       "      <th>DRIVE</th>\n",
       "      <td>13.0</td>\n",
       "      <td>10.0</td>\n",
       "      <td>15.0</td>\n",
       "      <td>0.0</td>\n",
       "      <td>34.0</td>\n",
       "      <td>21.0</td>\n",
       "    </tr>\n",
       "    <tr>\n",
       "      <th>LIDC-IDRI</th>\n",
       "      <td>24.0</td>\n",
       "      <td>19.0</td>\n",
       "      <td>8.0</td>\n",
       "      <td>0.0</td>\n",
       "      <td>35.0</td>\n",
       "      <td>13.0</td>\n",
       "    </tr>\n",
       "    <tr>\n",
       "      <th>MIMIC</th>\n",
       "      <td>46.0</td>\n",
       "      <td>22.0</td>\n",
       "      <td>17.0</td>\n",
       "      <td>2.0</td>\n",
       "      <td>48.0</td>\n",
       "      <td>32.0</td>\n",
       "    </tr>\n",
       "    <tr>\n",
       "      <th>MRNet</th>\n",
       "      <td>2.0</td>\n",
       "      <td>1.0</td>\n",
       "      <td>2.0</td>\n",
       "      <td>0.0</td>\n",
       "      <td>3.0</td>\n",
       "      <td>3.0</td>\n",
       "    </tr>\n",
       "    <tr>\n",
       "      <th>PROMISE12</th>\n",
       "      <td>8.0</td>\n",
       "      <td>3.0</td>\n",
       "      <td>2.0</td>\n",
       "      <td>4.0</td>\n",
       "      <td>11.0</td>\n",
       "      <td>6.0</td>\n",
       "    </tr>\n",
       "    <tr>\n",
       "      <th>PROSTATEx</th>\n",
       "      <td>1.0</td>\n",
       "      <td>1.0</td>\n",
       "      <td>1.0</td>\n",
       "      <td>1.0</td>\n",
       "      <td>5.0</td>\n",
       "      <td>2.0</td>\n",
       "    </tr>\n",
       "    <tr>\n",
       "      <th>PadChest</th>\n",
       "      <td>5.0</td>\n",
       "      <td>2.0</td>\n",
       "      <td>1.0</td>\n",
       "      <td>0.0</td>\n",
       "      <td>6.0</td>\n",
       "      <td>5.0</td>\n",
       "    </tr>\n",
       "  </tbody>\n",
       "</table>\n",
       "</div>"
      ],
      "text/plain": [
       "label2     Elsewhere  In Abstract  In Figure  In Footnote  In Method  In Table\n",
       "label1                                                                        \n",
       "ACDC            28.0         15.0       27.0          6.0       45.0      32.0\n",
       "BRATS           60.0         46.0       33.0          4.0       86.0      49.0\n",
       "CAMELYON        15.0          5.0        7.0          3.0       21.0      11.0\n",
       "CBIS-DDSM        5.0          4.0        1.0          0.0        7.0       4.0\n",
       "Chexpert        33.0         10.0       12.0          1.0       45.0      22.0\n",
       "DRIVE           13.0         10.0       15.0          0.0       34.0      21.0\n",
       "LIDC-IDRI       24.0         19.0        8.0          0.0       35.0      13.0\n",
       "MIMIC           46.0         22.0       17.0          2.0       48.0      32.0\n",
       "MRNet            2.0          1.0        2.0          0.0        3.0       3.0\n",
       "PROMISE12        8.0          3.0        2.0          4.0       11.0       6.0\n",
       "PROSTATEx        1.0          1.0        1.0          1.0        5.0       2.0\n",
       "PadChest         5.0          2.0        1.0          0.0        6.0       5.0"
      ]
     },
     "execution_count": 9,
     "metadata": {},
     "output_type": "execute_result"
    }
   ],
   "source": [
    "df_dataset = df_res[['label1','label2','value']].groupby(['label1','label2']).sum().unstack().fillna(0).droplevel(0,axis=1)\n",
    "plt.figure()\n",
    "df_dataset[df_dataset.index.isin(datasets_columns)].plot.bar()\n",
    "plt.tight_layout()\n",
    "plt.show()\n",
    "df_dataset[df_dataset.index.isin(datasets_columns)]"
   ]
  },
  {
   "cell_type": "markdown",
   "metadata": {},
   "source": [
    "## Difference with manual Annotations"
   ]
  },
  {
   "cell_type": "markdown",
   "metadata": {},
   "source": [
    "### Load annotations"
   ]
  },
  {
   "cell_type": "code",
   "execution_count": 10,
   "metadata": {},
   "outputs": [],
   "source": [
    "lst_df = []\n",
    "lst_annotators = [\"Amelia\",\"Dovile\",\"Theo\",\"Veronika\"]\n",
    "for ann in lst_annotators:\n",
    "    df = pd.read_csv(f\"../../Results/annotations/{ann}.csv\")\n",
    "    lst_df.append(df)\n",
    "df_annotation = pd.concat(lst_df)\n",
    "df_tracked = df_annotation[df_annotation[\"label1\"].isin(datasets_columns)]\n",
    "df_tracked.to_csv(\"../../Results/annotations/annotation_merged.csv\")\n",
    "\n",
    "df_tracked = df_tracked[~df_tracked[\"label2\"].isin([\"Used\"])]"
   ]
  },
  {
   "cell_type": "code",
   "execution_count": 11,
   "metadata": {},
   "outputs": [
    {
     "data": {
      "text/html": [
       "<div>\n",
       "<style scoped>\n",
       "    .dataframe tbody tr th:only-of-type {\n",
       "        vertical-align: middle;\n",
       "    }\n",
       "\n",
       "    .dataframe tbody tr th {\n",
       "        vertical-align: top;\n",
       "    }\n",
       "\n",
       "    .dataframe thead th {\n",
       "        text-align: right;\n",
       "    }\n",
       "</style>\n",
       "<table border=\"1\" class=\"dataframe\">\n",
       "  <thead>\n",
       "    <tr style=\"text-align: right;\">\n",
       "      <th></th>\n",
       "      <th>doc_id</th>\n",
       "      <th>doc_name</th>\n",
       "      <th>label1</th>\n",
       "      <th>label2</th>\n",
       "      <th>value</th>\n",
       "    </tr>\n",
       "  </thead>\n",
       "  <tbody>\n",
       "  </tbody>\n",
       "</table>\n",
       "</div>"
      ],
      "text/plain": [
       "Empty DataFrame\n",
       "Columns: [doc_id, doc_name, label1, label2, value]\n",
       "Index: []"
      ]
     },
     "execution_count": 11,
     "metadata": {},
     "output_type": "execute_result"
    }
   ],
   "source": [
    "df_tracked[df_tracked[\"label1\"]==\"Drive\"]"
   ]
  },
  {
   "cell_type": "code",
   "execution_count": 12,
   "metadata": {},
   "outputs": [],
   "source": [
    "df_res_tracked = df_res[df_res[\"label1\"].isin(datasets_columns)]"
   ]
  },
  {
   "cell_type": "markdown",
   "metadata": {},
   "source": [
    "### Get differences"
   ]
  },
  {
   "cell_type": "code",
   "execution_count": 13,
   "metadata": {},
   "outputs": [],
   "source": [
    "with open(\"../../Results/annotations/diff2.csv\",\"w\") as diff_file:\n",
    "    diff_file.write(\"doc_name,label1,label2,value_annotation,value_detection\")\n",
    "    for doc_name in df_tracked[\"doc_name\"].unique():\n",
    "        if doc_name in df_res_tracked[\"doc_name\"].unique():\n",
    "            detection = df_res_tracked[(df_res_tracked[\"doc_name\"] == doc_name) & (df_res_tracked[\"value\"] == True)]\n",
    "            annotations = df_tracked[(df_tracked[\"doc_name\"] == doc_name) & (df_tracked[\"value\"] == True)]\n",
    "            #Get differences where Annotation is True and Detection is False\n",
    "            for row in annotations.iterrows():\n",
    "                row_value = row[1]\n",
    "                if row_value[\"label1\"] not in detection[\"label1\"].unique():\n",
    "                    diff_file.write(f'\\n{row_value[\"doc_name\"]},{row_value[\"label1\"]},{row_value[\"label2\"]},True,False')\n",
    "                elif row_value[\"label2\"] not in detection[\"label2\"].unique():\n",
    "                    diff_file.write(f'\\n{row_value[\"doc_name\"]},{row_value[\"label1\"]},{row_value[\"label2\"]},True,False')\n",
    "        \n",
    "            #Get differences where Detection is True and Annotation is False\n",
    "            for row in detection.iterrows():\n",
    "                row_value = row[1]\n",
    "                if row_value[\"label1\"] not in annotations[\"label1\"].unique():\n",
    "                    diff_file.write(f'\\n{row_value[\"doc_name\"]},{row_value[\"label1\"]},{row_value[\"label2\"]},False,True')\n",
    "                elif row_value[\"label2\"] not in annotations[\"label2\"].unique():\n",
    "                    diff_file.write(f'\\n{row_value[\"doc_name\"]},{row_value[\"label1\"]},{row_value[\"label2\"]},False,True')"
   ]
  },
  {
   "cell_type": "markdown",
   "metadata": {},
   "source": [
    "### Analyses errors"
   ]
  },
  {
   "cell_type": "code",
   "execution_count": 14,
   "metadata": {},
   "outputs": [
    {
     "data": {
      "image/png": "[encoded data removed]",
      "text/plain": [
       "<Figure size 640x480 with 1 Axes>"
      ]
     },
     "metadata": {},
     "output_type": "display_data"
    },
    {
     "data": {
      "text/html": [
       "<div>\n",
       "<style scoped>\n",
       "    .dataframe tbody tr th:only-of-type {\n",
       "        vertical-align: middle;\n",
       "    }\n",
       "\n",
       "    .dataframe tbody tr th {\n",
       "        vertical-align: top;\n",
       "    }\n",
       "\n",
       "    .dataframe thead th {\n",
       "        text-align: right;\n",
       "    }\n",
       "</style>\n",
       "<table border=\"1\" class=\"dataframe\">\n",
       "  <thead>\n",
       "    <tr style=\"text-align: right;\">\n",
       "      <th></th>\n",
       "      <th>doc_name</th>\n",
       "    </tr>\n",
       "    <tr>\n",
       "      <th>error_type</th>\n",
       "      <th></th>\n",
       "    </tr>\n",
       "  </thead>\n",
       "  <tbody>\n",
       "    <tr>\n",
       "      <th>Annotation error</th>\n",
       "      <td>45</td>\n",
       "    </tr>\n",
       "    <tr>\n",
       "      <th>Grobid wrong localisation</th>\n",
       "      <td>16</td>\n",
       "    </tr>\n",
       "    <tr>\n",
       "      <th>Similar names</th>\n",
       "      <td>10</td>\n",
       "    </tr>\n",
       "    <tr>\n",
       "      <th>Considered as Method</th>\n",
       "      <td>9</td>\n",
       "    </tr>\n",
       "    <tr>\n",
       "      <th>Table not detected</th>\n",
       "      <td>9</td>\n",
       "    </tr>\n",
       "    <tr>\n",
       "      <th>Alias problem</th>\n",
       "      <td>5</td>\n",
       "    </tr>\n",
       "    <tr>\n",
       "      <th>URL problem</th>\n",
       "      <td>5</td>\n",
       "    </tr>\n",
       "    <tr>\n",
       "      <th>Unknown detection problem</th>\n",
       "      <td>4</td>\n",
       "    </tr>\n",
       "    <tr>\n",
       "      <th>Duplicate Considered as Method</th>\n",
       "      <td>3</td>\n",
       "    </tr>\n",
       "    <tr>\n",
       "      <th>Duplicate Grobid wrong localisation</th>\n",
       "      <td>3</td>\n",
       "    </tr>\n",
       "    <tr>\n",
       "      <th>Figure not detected</th>\n",
       "      <td>3</td>\n",
       "    </tr>\n",
       "    <tr>\n",
       "      <th>Abstract not detected</th>\n",
       "      <td>1</td>\n",
       "    </tr>\n",
       "    <tr>\n",
       "      <th>Footnote not detected</th>\n",
       "      <td>1</td>\n",
       "    </tr>\n",
       "    <tr>\n",
       "      <th>Subcaption not detected</th>\n",
       "      <td>1</td>\n",
       "    </tr>\n",
       "    <tr>\n",
       "      <th>Text conversion problem</th>\n",
       "      <td>1</td>\n",
       "    </tr>\n",
       "  </tbody>\n",
       "</table>\n",
       "</div>"
      ],
      "text/plain": [
       "                                     doc_name\n",
       "error_type                                   \n",
       "Annotation error                           45\n",
       "Grobid wrong localisation                  16\n",
       "Similar names                              10\n",
       "Considered as Method                        9\n",
       "Table not detected                          9\n",
       "Alias problem                               5\n",
       "URL problem                                 5\n",
       "Unknown detection problem                   4\n",
       "Duplicate Considered as Method              3\n",
       "Duplicate Grobid wrong localisation         3\n",
       "Figure not detected                         3\n",
       "Abstract not detected                       1\n",
       "Footnote not detected                       1\n",
       "Subcaption not detected                     1\n",
       "Text conversion problem                     1"
      ]
     },
     "metadata": {},
     "output_type": "display_data"
    }
   ],
   "source": [
    "df_diff = pd.read_csv(\"../../Results/annotations/diff_annotated.csv\")\n",
    "plt.figure()\n",
    "df_diff.groupby(\"error_type\").count()[\"doc_name\"].sort_values(ascending=False).plot.bar().grid(axis='y')\n",
    "plt.show()\n",
    "display(df_diff.groupby(\"error_type\").count()[\"doc_name\"].sort_values(ascending=False).to_frame())"
   ]
  },
  {
   "cell_type": "code",
   "execution_count": 15,
   "metadata": {},
   "outputs": [
    {
     "data": {
      "image/png": "[encoded data removed]",
      "text/plain": [
       "<Figure size 640x480 with 1 Axes>"
      ]
     },
     "metadata": {},
     "output_type": "display_data"
    },
    {
     "data": {
      "text/html": [
       "<div>\n",
       "<style scoped>\n",
       "    .dataframe tbody tr th:only-of-type {\n",
       "        vertical-align: middle;\n",
       "    }\n",
       "\n",
       "    .dataframe tbody tr th {\n",
       "        vertical-align: top;\n",
       "    }\n",
       "\n",
       "    .dataframe thead th {\n",
       "        text-align: right;\n",
       "    }\n",
       "</style>\n",
       "<table border=\"1\" class=\"dataframe\">\n",
       "  <thead>\n",
       "    <tr style=\"text-align: right;\">\n",
       "      <th></th>\n",
       "      <th>doc_name</th>\n",
       "    </tr>\n",
       "    <tr>\n",
       "      <th>label1</th>\n",
       "      <th></th>\n",
       "    </tr>\n",
       "  </thead>\n",
       "  <tbody>\n",
       "    <tr>\n",
       "      <th>BRATS</th>\n",
       "      <td>33</td>\n",
       "    </tr>\n",
       "    <tr>\n",
       "      <th>Chexpert</th>\n",
       "      <td>20</td>\n",
       "    </tr>\n",
       "    <tr>\n",
       "      <th>LIDC-IDRI</th>\n",
       "      <td>20</td>\n",
       "    </tr>\n",
       "    <tr>\n",
       "      <th>ACDC</th>\n",
       "      <td>9</td>\n",
       "    </tr>\n",
       "    <tr>\n",
       "      <th>MIMIC</th>\n",
       "      <td>8</td>\n",
       "    </tr>\n",
       "    <tr>\n",
       "      <th>DRIVE</th>\n",
       "      <td>6</td>\n",
       "    </tr>\n",
       "    <tr>\n",
       "      <th>PROMISE12</th>\n",
       "      <td>5</td>\n",
       "    </tr>\n",
       "    <tr>\n",
       "      <th>PadChest</th>\n",
       "      <td>5</td>\n",
       "    </tr>\n",
       "    <tr>\n",
       "      <th>PROSTATEx</th>\n",
       "      <td>4</td>\n",
       "    </tr>\n",
       "    <tr>\n",
       "      <th>MRNet</th>\n",
       "      <td>3</td>\n",
       "    </tr>\n",
       "    <tr>\n",
       "      <th>CAMELYON</th>\n",
       "      <td>2</td>\n",
       "    </tr>\n",
       "    <tr>\n",
       "      <th>CBIS-DDSM</th>\n",
       "      <td>1</td>\n",
       "    </tr>\n",
       "  </tbody>\n",
       "</table>\n",
       "</div>"
      ],
      "text/plain": [
       "           doc_name\n",
       "label1             \n",
       "BRATS            33\n",
       "Chexpert         20\n",
       "LIDC-IDRI        20\n",
       "ACDC              9\n",
       "MIMIC             8\n",
       "DRIVE             6\n",
       "PROMISE12         5\n",
       "PadChest          5\n",
       "PROSTATEx         4\n",
       "MRNet             3\n",
       "CAMELYON          2\n",
       "CBIS-DDSM         1"
      ]
     },
     "execution_count": 15,
     "metadata": {},
     "output_type": "execute_result"
    }
   ],
   "source": [
    "plt.plot()\n",
    "df_diff.groupby(\"label1\").count()[\"doc_name\"].sort_values(ascending=False).plot.bar()\n",
    "plt.show()\n",
    "df_diff.groupby(\"label1\").count()[\"doc_name\"].sort_values(ascending=False).to_frame()"
   ]
  },
  {
   "cell_type": "markdown",
   "metadata": {},
   "source": [
    "## Match with reference detection "
   ]
  },
  {
   "cell_type": "code",
   "execution_count": 34,
   "metadata": {},
   "outputs": [],
   "source": [
    "df_ref = pd.read_csv(\"../../Results/extraction/oa_papers_datasets_reference.csv\")\n",
    "ref_format_annotation = []\n",
    "for row in df_ref.iterrows():\n",
    "    row_value = row[1]\n",
    "    for ds in datasets_columns:\n",
    "        if row_value[ds]:\n",
    "            ref_format_annotation.append((row_value[\"name\"],ds,True))\n",
    "        else:\n",
    "            ref_format_annotation.append((row_value[\"name\"],ds,False))\n",
    "df_ref_format_annotation = pd.DataFrame(ref_format_annotation,columns=[\"doc_name\",\"label1\",\"value\"])"
   ]
  },
  {
   "cell_type": "code",
   "execution_count": 35,
   "metadata": {},
   "outputs": [],
   "source": [
    "df_ref_format_annotation.to_csv(\"../../Results/extraction/oa_reference_paper_dataset_location_format.csv\",index=False)"
   ]
  },
  {
   "cell_type": "code",
   "execution_count": 18,
   "metadata": {},
   "outputs": [],
   "source": [
    "def match_fulltextdetection(doc_name,label,df_detection):\n",
    "    if doc_name in df_detection[\"doc_name\"].unique():\n",
    "        if df_detection[(df_detection[\"doc_name\"] == doc_name) & (df_detection[\"label1\"] == label) & (df_detection[\"label2\"] != \"Elsewhere\")][\"value\"].any():\n",
    "            return True\n",
    "        else:\n",
    "            return False\n",
    "    else:\n",
    "        return False\n",
    "df_ref_format_annotation[\"detection\"] = df_ref_format_annotation.apply(lambda x:match_fulltextdetection(x[\"doc_name\"],x[\"label1\"],df_res),axis=1)"
   ]
  },
  {
   "cell_type": "code",
   "execution_count": 19,
   "metadata": {},
   "outputs": [
    {
     "name": "stdout",
     "output_type": "stream",
     "text": [
      "Citation and Mention:189\n",
      "No Citation but Mention: 173\n",
      "Citation but no Mention: 259\n"
     ]
    }
   ],
   "source": [
    "print(f\"Citation and Mention:{df_ref_format_annotation[(df_ref_format_annotation[\"value\"]==True)&(df_ref_format_annotation[\"detection\"]==True)].count()[\"value\"]}\")\n",
    "print(f'No Citation but Mention: {df_ref_format_annotation[(df_ref_format_annotation[\"value\"]==False)&(df_ref_format_annotation[\"detection\"])].count()[\"value\"]}')\n",
    "print(f'Citation but no Mention: {df_ref_format_annotation[(df_ref_format_annotation[\"value\"]==True)&(df_ref_format_annotation[\"detection\"]==False)].count()[\"value\"]}')"
   ]
  },
  {
   "cell_type": "code",
   "execution_count": 20,
   "metadata": {},
   "outputs": [
    {
     "data": {
      "text/plain": [
       "<Axes: xlabel='label1'>"
      ]
     },
     "execution_count": 20,
     "metadata": {},
     "output_type": "execute_result"
    },
    {
     "data": {
      "image/png": "[encoded data removed]",
      "text/plain": [
       "<Figure size 640x480 with 1 Axes>"
      ]
     },
     "metadata": {},
     "output_type": "display_data"
    }
   ],
   "source": [
    "df_ref_format_annotation[(df_ref_format_annotation[\"value\"]==False)&(df_ref_format_annotation[\"detection\"])].groupby(\"label1\").count()[\"detection\"].plot.bar()"
   ]
  },
  {
   "cell_type": "markdown",
   "metadata": {},
   "source": [
    "# Reference matching"
   ]
  },
  {
   "cell_type": "code",
   "execution_count": 21,
   "metadata": {},
   "outputs": [],
   "source": [
    "#Get the results of grobid parsing\n",
    "xml_paths = glob.glob(\"../../Results/extraction/grobid_extraction/*\")\n",
    "\n",
    "#res will contain an element (dict) per paper, in each element keys will be datasets' name and value boolean indicating a citation\n",
    "res = []\n",
    "for i,path in enumerate(xml_paths):\n",
    "    paper_name = path.removeprefix(\"../../Results/extraction/grobid_extraction/\").removesuffix(\".grobid.tei.xml\").removesuffix(\".txt\")\n",
    "    \n",
    "    #Check that the result is an xml, otherwise grobid had an error during the parsing and generate a .txt file\n",
    "    if path.endswith(\".xml\"):\n",
    "        #Load the xml file with BeautifulSoup for parsing\n",
    "        with open(path) as fp:\n",
    "            soup = bs.BeautifulSoup(fp,features=\"xml\")\n",
    "          \n",
    "        #Search for the mention of every dataset one by one\n",
    "        for ds in datasets_info:\n",
    "            #Construct the regex for matching name or aliases, example for ACDC: (?<![^_\\W])(ACDC)|(Automated Cardiac Diagnosis Challenge)|(AC17)(?![^_\\s\\d\\.\\),'])\n",
    "            ds_title = re.escape(datasets_info[ds][\"title\"])\n",
    "            if soup.find(string=re.compile(ds_title,re.IGNORECASE)):\n",
    "                res.append((paper_name,ds,True))\n",
    "            else:\n",
    "                res.append((paper_name,ds,False))\n",
    "    "
   ]
  },
  {
   "cell_type": "code",
   "execution_count": 22,
   "metadata": {},
   "outputs": [],
   "source": [
    "df_res = pd.DataFrame(res,columns=[\"doc_name\",\"label1\",\"value\"])\n",
    "df_res.to_csv(\"../../Results/extraction/grobid_reference_detection.csv\",index=False)"
   ]
  }
 ],
 "metadata": {
  "kernelspec": {
   "display_name": "PublicDataset",
   "language": "python",
   "name": "python3"
  },
  "language_info": {
   "codemirror_mode": {
    "name": "ipython",
    "version": 3
   },
   "file_extension": ".py",
   "mimetype": "text/x-python",
   "name": "python",
   "nbconvert_exporter": "python",
   "pygments_lexer": "ipython3",
   "version": "3.12.0"
  }
 },
 "nbformat": 4,
 "nbformat_minor": 2
}
